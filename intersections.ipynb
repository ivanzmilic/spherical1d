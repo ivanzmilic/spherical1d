{
 "cells": [
  {
   "cell_type": "code",
   "execution_count": 1,
   "id": "0e4a2010",
   "metadata": {},
   "outputs": [],
   "source": [
    "import numpy as np \n",
    "import matplotlib.pyplot as plt "
   ]
  },
  {
   "cell_type": "code",
   "execution_count": 3,
   "id": "22e7f69f",
   "metadata": {},
   "outputs": [],
   "source": [
    "def compute_intersections(p0, d):\n",
    "    # NOTE(cmo): Units of Rs\n",
    "    a = 1.0\n",
    "    b = 2.0 * (p0 @ d)\n",
    "    c = p0 @ p0 - 1.0\n",
    "    delta = b*b - 4.0 * a * c\n",
    "\n",
    "    if delta < 0:\n",
    "        return None\n",
    "    t1 = (-b - np.sqrt(delta)) / (2.0 * a)\n",
    "    t2 = (-b + np.sqrt(delta)) / (2.0 * a)\n",
    "    return t1, t2\n",
    "\n",
    "def sphere_trace_ctx(ctx, mu, num_sample_points=20_000):\n",
    "    \n",
    "    # This defines the viewpoint and the direction\n",
    "    p0 = np.array([0.0, 0.0, 1.0])\n",
    "    d = np.array([-np.sqrt(1.0 - mu**2), 0.0, -mu])\n",
    "    \n",
    "    # Find the intersections and interpolate there with a fixed number of sub-samples\n",
    "    # Consider having a fixed lenght of the sample\n",
    "    intersections = compute_intersections(p0, d)\n",
    "    if intersections is None:\n",
    "        raise ValueError(\"Pass a sane mu pls\")\n",
    "    t1, t2 = intersections\n",
    "    sample_ts = np.linspace(t1, t2, num_sample_points)\n",
    "    \n",
    "    # convert that into sample points in 3D space\n",
    "    sample_points = p0 + d[None, :] * sample_ts[:, None]\n",
    "    \n",
    "    # Now we related these x,y,z to a 1D spherical geometry (here we would want a 3D dependence)\n",
    "    centre = np.array([0.0, 0.0, 0.0])\n",
    "    radius = 1.0\n",
    "    depth = radius - np.sqrt(np.sum((sample_points - centre)**2, axis=1))\n",
    "    # NOTE(cmo): Dimensionalise and invert sign of depth\n",
    "    depth *= -const.R_sun.value\n",
    "    # NOTE(cmo): Shift to align 0 with top of FALC\n",
    "    depth += ctx.atmos.z[0]\n",
    "    # NOTE(cmo): Limit depth to maximum of FALC\n",
    "    mask = depth < ctx.atmos.z[-1]\n",
    "    if np.any(mask):\n",
    "        max_depth_index = np.argmax(mask)\n",
    "        depth[max_depth_index:] = ctx.atmos.z[-1]\n",
    "\n",
    "    ds = (sample_ts[1] - sample_ts[0]) * const.R_sun.value\n",
    "    print(f\"Step: {ds/1e3} km, max depth = {depth.min() / 1e3} km\")\n",
    "\n",
    "    eta = np.zeros((ctx.spect.wavelength.shape[0], num_sample_points))\n",
    "    chi = np.zeros((ctx.spect.wavelength.shape[0], num_sample_points))\n",
    "    \n",
    "    # Interpolate emissivity and opacity to the ray we are considering. \n",
    "    # Here we are starting from a converged falc pp from lw\n",
    "    for la in range(ctx.spect.wavelength.shape[0]):\n",
    "        # eta[la, :] = weno4(depth, ctx.atmos.z, ctx.depthData.eta[la, 0, 0, :])\n",
    "        # chi[la, :] = weno4(depth, ctx.atmos.z, ctx.depthData.chi[la, 0, 0, :])\n",
    "        eta[la, :] = np.interp(depth, ctx.atmos.z[::-1], ctx.depthData.eta[la, 0, 0, ::-1])\n",
    "        chi[la, :] = np.interp(depth, ctx.atmos.z[::-1], ctx.depthData.chi[la, 0, 0, ::-1])\n",
    "    \n",
    "    # Below is 0th order SC Formal Solver:\n",
    "    # numerical integration for tau\n",
    "    dtau = chi * ds\n",
    "    # dtau = 0.5 * (chi[1:] + chi[:-1]) * ds\n",
    "    tau = np.cumsum(dtau, axis=1) - tau[0]\n",
    "    Sfn = eta / chi\n",
    "    transmission = np.exp(-tau)\n",
    "    local_contribution = (1.0 - np.exp(-dtau)) * Sfn\n",
    "    outgoing_contribution = local_contribution * transmission\n",
    "    I = np.sum(outgoing_contribution, axis=1)\n",
    "    return I, outgoing_contribution, ds\n",
    "\n",
    "mu_grid = np.linspace(0.01, 0.1, 19)"
   ]
  },
  {
   "cell_type": "code",
   "execution_count": 4,
   "id": "ef20db53",
   "metadata": {},
   "outputs": [
    {
     "name": "stdout",
     "output_type": "stream",
     "text": [
      "(1.0, 3.0)\n"
     ]
    }
   ],
   "source": [
    "p0 = np.array([0,0,2.0])\n",
    "mu = 1.0\n",
    "d =  np.array([-np.sqrt(1.0 - mu**2), 0.0, -mu])\n",
    "\n",
    "print(compute_intersections(p0,d))"
   ]
  },
  {
   "cell_type": "code",
   "execution_count": null,
   "id": "ac1f5d40",
   "metadata": {},
   "outputs": [],
   "source": [
    "# What's gona happen here is that I am gonna keep mu fixed but I am gonna change p0\n",
    "# for different viewing geometries. So if I want to get, say, CLV of something in,\n",
    "# spherical gometry. I just need to define my, say, observation direction w.r.t. limb, I say that \"limb\"\n",
    "# is at Rs."
   ]
  },
  {
   "cell_type": "code",
   "execution_count": null,
   "id": "b7ccf891-308d-4df9-90fb-773ed88f17f1",
   "metadata": {},
   "outputs": [],
   "source": [
    "# Let's try multiple p0\n",
    "\n",
    "for i in range"
   ]
  }
 ],
 "metadata": {
  "kernelspec": {
   "display_name": "Python 3 (ipykernel)",
   "language": "python",
   "name": "python3"
  },
  "language_info": {
   "codemirror_mode": {
    "name": "ipython",
    "version": 3
   },
   "file_extension": ".py",
   "mimetype": "text/x-python",
   "name": "python",
   "nbconvert_exporter": "python",
   "pygments_lexer": "ipython3",
   "version": "3.10.14"
  }
 },
 "nbformat": 4,
 "nbformat_minor": 5
}
